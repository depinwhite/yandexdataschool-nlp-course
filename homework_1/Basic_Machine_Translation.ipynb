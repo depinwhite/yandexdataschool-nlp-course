{
  "cells": [
    {
      "cell_type": "markdown",
      "metadata": {
        "id": "4PjGo_vJOoFI"
      },
      "source": [
        "## Homework: Multilingual Embedding-based Machine Translation (7 points)"
      ]
    },
    {
      "cell_type": "markdown",
      "metadata": {
        "id": "Z6S3YNCPOoFM"
      },
      "source": [
        "**In this homework** **<font color='red'>YOU</font>** will make machine translation system without using parallel corpora, alignment, attention, 100500 depth super-cool recurrent neural network and all that kind superstuff.\n",
        "\n",
        "But even without parallel corpora this system can be good enough (hopefully). \n",
        "\n",
        "For our system we choose two kindred Slavic languages: Ukrainian and Russian. "
      ]
    },
    {
      "cell_type": "markdown",
      "metadata": {
        "id": "8E6dw4IOOoFO"
      },
      "source": [
        "### Feel the difference!\n",
        "\n",
        "(_синій кіт_ vs. _синій кит_)"
      ]
    },
    {
      "cell_type": "markdown",
      "metadata": {
        "id": "KLWqR4DMOoFO"
      },
      "source": [
        "![blue_cat_blue_whale.png](https://github.com/yandexdataschool/nlp_course/raw/master/resources/blue_cat_blue_whale.png)"
      ]
    },
    {
      "cell_type": "markdown",
      "metadata": {
        "id": "KSBio4ElOoFP"
      },
      "source": [
        "### Frament of the Swadesh list for some slavic languages\n",
        "\n",
        "The Swadesh list is a lexicostatistical stuff. It's named after American linguist Morris Swadesh and contains basic lexis. This list are used to define subgroupings of languages, its relatedness.\n",
        "\n",
        "So we can see some kind of word invariance for different Slavic languages.\n",
        "\n",
        "\n",
        "| Russian         | Belorussian              | Ukrainian               | Polish             | Czech                         | Bulgarian            |\n",
        "|-----------------|--------------------------|-------------------------|--------------------|-------------------------------|-----------------------|\n",
        "| женщина         | жанчына, кабета, баба    | жінка                   | kobieta            | žena                          | жена                  |\n",
        "| мужчина         | мужчына                  | чоловік, мужчина        | mężczyzna          | muž                           | мъж                   |\n",
        "| человек         | чалавек                  | людина, чоловік         | człowiek           | člověk                        | човек                 |\n",
        "| ребёнок, дитя   | дзіця, дзіцёнак, немаўля | дитина, дитя            | dziecko            | dítě                          | дете                  |\n",
        "| жена            | жонка                    | дружина, жінка          | żona               | žena, manželka, choť          | съпруга, жена         |\n",
        "| муж             | муж, гаспадар            | чоловiк, муж            | mąż                | muž, manžel, choť             | съпруг, мъж           |\n",
        "| мать, мама      | маці, матка              | мати, матір, неня, мама | matka              | matka, máma, 'стар.' mateř    | майка                 |\n",
        "| отец, тятя      | бацька, тата             | батько, тато, татусь    | ojciec             | otec                          | баща, татко           |\n",
        "| много           | шмат, багата             | багато                  | wiele              | mnoho, hodně                  | много                 |\n",
        "| несколько       | некалькі, колькі         | декілька, кілька        | kilka              | několik, pár, trocha          | няколко               |\n",
        "| другой, иной    | іншы                     | інший                   | inny               | druhý, jiný                   | друг                  |\n",
        "| зверь, животное | жывёла, звер, істота     | тварина, звір           | zwierzę            | zvíře                         | животно               |\n",
        "| рыба            | рыба                     | риба                    | ryba               | ryba                          | риба                  |\n",
        "| птица           | птушка                   | птах, птиця             | ptak               | pták                          | птица                 |\n",
        "| собака, пёс     | сабака                   | собака, пес             | pies               | pes                           | куче, пес             |\n",
        "| вошь            | вош                      | воша                    | wesz               | veš                           | въшка                 |\n",
        "| змея, гад       | змяя                     | змія, гад               | wąż                | had                           | змия                  |\n",
        "| червь, червяк   | чарвяк                   | хробак, черв'як         | robak              | červ                          | червей                |\n",
        "| дерево          | дрэва                    | дерево                  | drzewo             | strom, dřevo                  | дърво                 |\n",
        "| лес             | лес                      | ліс                     | las                | les                           | гора, лес             |\n",
        "| палка           | кій, палка               | палиця                  | patyk, pręt, pałka | hůl, klacek, prut, kůl, pálka | палка, пръчка, бастун |"
      ]
    },
    {
      "cell_type": "markdown",
      "metadata": {
        "id": "rPPByuzmOoFQ"
      },
      "source": [
        "But the context distribution of these languages demonstrates even more invariance. And we can use this fact for our for our purposes."
      ]
    },
    {
      "cell_type": "markdown",
      "metadata": {
        "id": "hB6fS3Z8OoFR"
      },
      "source": [
        "## Data"
      ]
    },
    {
      "cell_type": "code",
      "execution_count": 1,
      "metadata": {
        "id": "naEXZ4S8OoFh"
      },
      "outputs": [],
      "source": [
        "import gensim\n",
        "import numpy as np\n",
        "from gensim.models import KeyedVectors"
      ]
    },
    {
      "cell_type": "code",
      "execution_count": 2,
      "metadata": {
        "id": "JfMZ5PERTa6e"
      },
      "outputs": [],
      "source": [
        "import zipfile as zp"
      ]
    },
    {
      "cell_type": "markdown",
      "metadata": {
        "id": "a2UXM6zDOoFi"
      },
      "source": [
        "Download embeddings here:\n",
        "* [cc.uk.300.vec.zip](https://yadi.sk/d/9CAeNsJiInoyUA)\n",
        "* [cc.ru.300.vec.zip](https://yadi.sk/d/3yG0-M4M8fypeQ)"
      ]
    },
    {
      "cell_type": "code",
      "execution_count": 3,
      "metadata": {
        "colab": {
          "base_uri": "https://localhost:8080/"
        },
        "id": "nYDQCl2gP9RJ",
        "outputId": "38d52a6a-36d8-4fd6-915c-bca2f41d74e2"
      },
      "outputs": [
        {
          "output_type": "stream",
          "name": "stdout",
          "text": [
            "--2022-02-23 21:38:46--  https://getfile.dokpub.com/yandex/get/https://disk.yandex.ru/d/9CAeNsJiInoyUA\n",
            "Resolving getfile.dokpub.com (getfile.dokpub.com)... 78.46.92.107\n",
            "Connecting to getfile.dokpub.com (getfile.dokpub.com)|78.46.92.107|:443... connected.\n",
            "HTTP request sent, awaiting response... 302 Moved Temporarily\n",
            "Location: https://downloader.disk.yandex.ru/disk/1fb2c840731bfcf223f22cd08503aa0a552dddd8adc43a32130b964a4e12681a/6216e1a8/HdZOcL9j2UCaFZl90Y8xfcevwXkXuXvaIYjUX06MZoTXMyIOD6p5K-p8gA1R1iDaMnWY-AL8LMuEB1uPSIvHDw%3D%3D?uid=0&filename=cc.uk.300.vec.zip&disposition=attachment&hash=0MriIZAL2DprNGr89hL7a6bICrn4LuFQAJY%2BK4qSU1A%3D%3A&limit=0&content_type=application%2Fzip&owner_uid=78404243&fsize=386324207&hid=d843208373e1ea4be77ac5cfc29ca557&media_type=compressed&tknv=v2 [following]\n",
            "--2022-02-23 21:38:48--  https://downloader.disk.yandex.ru/disk/1fb2c840731bfcf223f22cd08503aa0a552dddd8adc43a32130b964a4e12681a/6216e1a8/HdZOcL9j2UCaFZl90Y8xfcevwXkXuXvaIYjUX06MZoTXMyIOD6p5K-p8gA1R1iDaMnWY-AL8LMuEB1uPSIvHDw%3D%3D?uid=0&filename=cc.uk.300.vec.zip&disposition=attachment&hash=0MriIZAL2DprNGr89hL7a6bICrn4LuFQAJY%2BK4qSU1A%3D%3A&limit=0&content_type=application%2Fzip&owner_uid=78404243&fsize=386324207&hid=d843208373e1ea4be77ac5cfc29ca557&media_type=compressed&tknv=v2\n",
            "Resolving downloader.disk.yandex.ru (downloader.disk.yandex.ru)... 77.88.21.127, 2a02:6b8::2:127\n",
            "Connecting to downloader.disk.yandex.ru (downloader.disk.yandex.ru)|77.88.21.127|:443... connected.\n",
            "HTTP request sent, awaiting response... 302 Found\n",
            "Location: https://s202vla.storage.yandex.net/rdisk/1fb2c840731bfcf223f22cd08503aa0a552dddd8adc43a32130b964a4e12681a/6216e1a8/HdZOcL9j2UCaFZl90Y8xfcevwXkXuXvaIYjUX06MZoTXMyIOD6p5K-p8gA1R1iDaMnWY-AL8LMuEB1uPSIvHDw==?uid=0&filename=cc.uk.300.vec.zip&disposition=attachment&hash=0MriIZAL2DprNGr89hL7a6bICrn4LuFQAJY%2BK4qSU1A%3D%3A&limit=0&content_type=application%2Fzip&owner_uid=78404243&fsize=386324207&hid=d843208373e1ea4be77ac5cfc29ca557&media_type=compressed&tknv=v2&rtoken=41jHWz3hjFMk&force_default=no&ycrid=na-0e716038fb14cbda981ebeaec5f824c8-downloader19f&ts=5d8b9a4bdba00&s=8a45e972772a711478e0c9c616f6f242e32d6f448daebf217aede807f9196786&pb=U2FsdGVkX19rFB5THcMKSvf76eI7HQxZYxtDqUfCBwgx_o9Z13Vv_4veFZ3VkPOx0G8go_eTxLfk5Tszysmg1UrJmtrhITYVlwRSsm5xgEE [following]\n",
            "--2022-02-23 21:38:49--  https://s202vla.storage.yandex.net/rdisk/1fb2c840731bfcf223f22cd08503aa0a552dddd8adc43a32130b964a4e12681a/6216e1a8/HdZOcL9j2UCaFZl90Y8xfcevwXkXuXvaIYjUX06MZoTXMyIOD6p5K-p8gA1R1iDaMnWY-AL8LMuEB1uPSIvHDw==?uid=0&filename=cc.uk.300.vec.zip&disposition=attachment&hash=0MriIZAL2DprNGr89hL7a6bICrn4LuFQAJY%2BK4qSU1A%3D%3A&limit=0&content_type=application%2Fzip&owner_uid=78404243&fsize=386324207&hid=d843208373e1ea4be77ac5cfc29ca557&media_type=compressed&tknv=v2&rtoken=41jHWz3hjFMk&force_default=no&ycrid=na-0e716038fb14cbda981ebeaec5f824c8-downloader19f&ts=5d8b9a4bdba00&s=8a45e972772a711478e0c9c616f6f242e32d6f448daebf217aede807f9196786&pb=U2FsdGVkX19rFB5THcMKSvf76eI7HQxZYxtDqUfCBwgx_o9Z13Vv_4veFZ3VkPOx0G8go_eTxLfk5Tszysmg1UrJmtrhITYVlwRSsm5xgEE\n",
            "Resolving s202vla.storage.yandex.net (s202vla.storage.yandex.net)... 77.88.33.139, 2a02:6b8:c0e:92c:0:41af:a5f6:1631\n",
            "Connecting to s202vla.storage.yandex.net (s202vla.storage.yandex.net)|77.88.33.139|:443... connected.\n",
            "HTTP request sent, awaiting response... 200 OK\n",
            "Length: 386324207 (368M) [application/zip]\n",
            "Saving to: ‘/content/gdrive/My Drive/9CAeNsJiInoyUA’\n",
            "\n",
            "9CAeNsJiInoyUA      100%[===================>] 368.43M  21.7MB/s    in 18s     \n",
            "\n",
            "2022-02-23 21:39:08 (20.1 MB/s) - ‘/content/gdrive/My Drive/9CAeNsJiInoyUA’ saved [386324207/386324207]\n",
            "\n"
          ]
        }
      ],
      "source": [
        "!wget -P /content/gdrive/My\\ Drive https://getfile.dokpub.com/yandex/get/https://disk.yandex.ru/d/9CAeNsJiInoyUA"
      ]
    },
    {
      "cell_type": "code",
      "execution_count": 4,
      "metadata": {
        "colab": {
          "base_uri": "https://localhost:8080/"
        },
        "id": "sYPcfR_aQZv1",
        "outputId": "e3ba3cf9-d571-4f2a-82a4-08baee06b6be"
      },
      "outputs": [
        {
          "output_type": "stream",
          "name": "stdout",
          "text": [
            "--2022-02-23 21:39:08--  https://getfile.dokpub.com/yandex/get/https://disk.yandex.ru/d/3yG0-M4M8fypeQ\n",
            "Resolving getfile.dokpub.com (getfile.dokpub.com)... 78.46.92.107\n",
            "Connecting to getfile.dokpub.com (getfile.dokpub.com)|78.46.92.107|:443... connected.\n",
            "HTTP request sent, awaiting response... 302 Moved Temporarily\n",
            "Location: https://downloader.disk.yandex.ru/disk/40003f3b5a808739725f5be98f29a18277666f853a4ccd097d0c1382602e0b71/6216e1bd/HdZOcL9j2UCaFZl90Y8xfcTnpNaEkOFBvBMcb1tjQV6ciMfYRf6DCCWmZlYoeRwMntukoppeKNR68PfXdYslpA%3D%3D?uid=0&filename=cc.ru.300.vec.zip&disposition=attachment&hash=Tf4kWKzkDPdN2THngpCb3pCAfsAgLUptvmXFCRFSUxY%3D%3A&limit=0&content_type=application%2Fzip&owner_uid=78404243&fsize=397254664&hid=67d07e7a6953ad340b81e01c02abd45d&media_type=compressed&tknv=v2 [following]\n",
            "--2022-02-23 21:39:09--  https://downloader.disk.yandex.ru/disk/40003f3b5a808739725f5be98f29a18277666f853a4ccd097d0c1382602e0b71/6216e1bd/HdZOcL9j2UCaFZl90Y8xfcTnpNaEkOFBvBMcb1tjQV6ciMfYRf6DCCWmZlYoeRwMntukoppeKNR68PfXdYslpA%3D%3D?uid=0&filename=cc.ru.300.vec.zip&disposition=attachment&hash=Tf4kWKzkDPdN2THngpCb3pCAfsAgLUptvmXFCRFSUxY%3D%3A&limit=0&content_type=application%2Fzip&owner_uid=78404243&fsize=397254664&hid=67d07e7a6953ad340b81e01c02abd45d&media_type=compressed&tknv=v2\n",
            "Resolving downloader.disk.yandex.ru (downloader.disk.yandex.ru)... 77.88.21.127, 2a02:6b8::2:127\n",
            "Connecting to downloader.disk.yandex.ru (downloader.disk.yandex.ru)|77.88.21.127|:443... connected.\n",
            "HTTP request sent, awaiting response... 302 Found\n",
            "Location: https://s210vla.storage.yandex.net/rdisk/40003f3b5a808739725f5be98f29a18277666f853a4ccd097d0c1382602e0b71/6216e1bd/HdZOcL9j2UCaFZl90Y8xfcTnpNaEkOFBvBMcb1tjQV6ciMfYRf6DCCWmZlYoeRwMntukoppeKNR68PfXdYslpA==?uid=0&filename=cc.ru.300.vec.zip&disposition=attachment&hash=Tf4kWKzkDPdN2THngpCb3pCAfsAgLUptvmXFCRFSUxY%3D%3A&limit=0&content_type=application%2Fzip&owner_uid=78404243&fsize=397254664&hid=67d07e7a6953ad340b81e01c02abd45d&media_type=compressed&tknv=v2&rtoken=NOTGF9YeQvoV&force_default=no&ycrid=na-02be691154b98d943c15395027fe62d3-downloader3e&ts=5d8b9a5fe2940&s=ed3b66ac11c0b9807f4246caaef07ba44e5f5e169f275515ec28a08a3e09741f&pb=U2FsdGVkX1-EianC4EojSdy3Jb-tDz4cqu12mQtCBCNosJQ8L-atkyovSbrxB0RcXb-1BtB4sLT-Vn3nSyKZzX0UF1N8kdPi00rlX-uV5NM [following]\n",
            "--2022-02-23 21:39:10--  https://s210vla.storage.yandex.net/rdisk/40003f3b5a808739725f5be98f29a18277666f853a4ccd097d0c1382602e0b71/6216e1bd/HdZOcL9j2UCaFZl90Y8xfcTnpNaEkOFBvBMcb1tjQV6ciMfYRf6DCCWmZlYoeRwMntukoppeKNR68PfXdYslpA==?uid=0&filename=cc.ru.300.vec.zip&disposition=attachment&hash=Tf4kWKzkDPdN2THngpCb3pCAfsAgLUptvmXFCRFSUxY%3D%3A&limit=0&content_type=application%2Fzip&owner_uid=78404243&fsize=397254664&hid=67d07e7a6953ad340b81e01c02abd45d&media_type=compressed&tknv=v2&rtoken=NOTGF9YeQvoV&force_default=no&ycrid=na-02be691154b98d943c15395027fe62d3-downloader3e&ts=5d8b9a5fe2940&s=ed3b66ac11c0b9807f4246caaef07ba44e5f5e169f275515ec28a08a3e09741f&pb=U2FsdGVkX1-EianC4EojSdy3Jb-tDz4cqu12mQtCBCNosJQ8L-atkyovSbrxB0RcXb-1BtB4sLT-Vn3nSyKZzX0UF1N8kdPi00rlX-uV5NM\n",
            "Resolving s210vla.storage.yandex.net (s210vla.storage.yandex.net)... 77.88.33.147, 2a02:6b8:c0e:919:0:41af:7e01:40a9\n",
            "Connecting to s210vla.storage.yandex.net (s210vla.storage.yandex.net)|77.88.33.147|:443... connected.\n",
            "HTTP request sent, awaiting response... 200 OK\n",
            "Length: 397254664 (379M) [application/zip]\n",
            "Saving to: ‘/content/gdrive/My Drive/3yG0-M4M8fypeQ’\n",
            "\n",
            "3yG0-M4M8fypeQ      100%[===================>] 378.85M  19.9MB/s    in 22s     \n",
            "\n",
            "2022-02-23 21:39:33 (16.9 MB/s) - ‘/content/gdrive/My Drive/3yG0-M4M8fypeQ’ saved [397254664/397254664]\n",
            "\n"
          ]
        }
      ],
      "source": [
        "!wget -P /content/gdrive/My\\ Drive https://getfile.dokpub.com/yandex/get/https://disk.yandex.ru/d/3yG0-M4M8fypeQ"
      ]
    },
    {
      "cell_type": "code",
      "execution_count": 5,
      "metadata": {
        "id": "1RF222DRTAi9"
      },
      "outputs": [],
      "source": [
        "path = \"/content/gdrive/My Drive/3yG0-M4M8fypeQ\"\n",
        "zip_ = zp.ZipFile(path)\n",
        "zip_.extractall(r\"/content/gdrive/My Drive/\")\n",
        "zip_.close()"
      ]
    },
    {
      "cell_type": "code",
      "execution_count": 6,
      "metadata": {
        "id": "JspX4H64XXNi"
      },
      "outputs": [],
      "source": [
        "path = \"/content/gdrive/My Drive/9CAeNsJiInoyUA\"\n",
        "zip_ = zp.ZipFile(path)\n",
        "zip_.extractall(r\"/content/gdrive/My Drive/\")\n",
        "zip_.close()"
      ]
    },
    {
      "cell_type": "markdown",
      "metadata": {
        "id": "qjxt01YNOoFj"
      },
      "source": [
        "Load embeddings for ukrainian and russian."
      ]
    },
    {
      "cell_type": "code",
      "execution_count": 7,
      "metadata": {
        "id": "ix7pHzt0OoFj"
      },
      "outputs": [],
      "source": [
        "uk_emb = KeyedVectors.load_word2vec_format(\"/content/gdrive/My Drive/cc.uk.300.vec\")"
      ]
    },
    {
      "cell_type": "code",
      "execution_count": 8,
      "metadata": {
        "id": "RQmdDvQwOoFj"
      },
      "outputs": [],
      "source": [
        "ru_emb = KeyedVectors.load_word2vec_format(\"/content/gdrive/My Drive/cc.ru.300.vec\")"
      ]
    },
    {
      "cell_type": "code",
      "execution_count": 9,
      "metadata": {
        "colab": {
          "base_uri": "https://localhost:8080/"
        },
        "id": "5-rKsaBVOoFj",
        "outputId": "3010981a-b94b-4b16-efd8-acb8fc7d0910"
      },
      "outputs": [
        {
          "output_type": "execute_result",
          "data": {
            "text/plain": [
              "[('август', 1.0),\n",
              " ('июль', 0.9383153915405273),\n",
              " ('сентябрь', 0.9240028858184814),\n",
              " ('июнь', 0.9222575426101685),\n",
              " ('октябрь', 0.9095538854598999),\n",
              " ('ноябрь', 0.8930036425590515),\n",
              " ('апрель', 0.8729087114334106),\n",
              " ('декабрь', 0.8652557730674744),\n",
              " ('март', 0.8545796275138855),\n",
              " ('февраль', 0.8401416540145874)]"
            ]
          },
          "metadata": {},
          "execution_count": 9
        }
      ],
      "source": [
        "ru_emb.most_similar([ru_emb[\"август\"]], topn=10)"
      ]
    },
    {
      "cell_type": "code",
      "execution_count": 10,
      "metadata": {
        "colab": {
          "base_uri": "https://localhost:8080/"
        },
        "id": "M9kYfYsuOoFk",
        "outputId": "6f773ede-f739-4503-d7d0-4e2715904c8a"
      },
      "outputs": [
        {
          "output_type": "execute_result",
          "data": {
            "text/plain": [
              "[('серпень', 0.9999999403953552),\n",
              " ('липень', 0.9096440076828003),\n",
              " ('вересень', 0.901697039604187),\n",
              " ('червень', 0.8992519378662109),\n",
              " ('жовтень', 0.8810408711433411),\n",
              " ('листопад', 0.8787633776664734),\n",
              " ('квітень', 0.8592804670333862),\n",
              " ('грудень', 0.8586863279342651),\n",
              " ('травень', 0.8408110737800598),\n",
              " ('лютий', 0.8256431818008423)]"
            ]
          },
          "metadata": {},
          "execution_count": 10
        }
      ],
      "source": [
        "uk_emb.most_similar([uk_emb[\"серпень\"]])"
      ]
    },
    {
      "cell_type": "code",
      "execution_count": 11,
      "metadata": {
        "colab": {
          "base_uri": "https://localhost:8080/"
        },
        "id": "RT2TA_VvOoFk",
        "outputId": "67a8a89b-4fe2-48bd-87cf-700d1504612a"
      },
      "outputs": [
        {
          "output_type": "execute_result",
          "data": {
            "text/plain": [
              "[('Недопустимость', 0.24435284733772278),\n",
              " ('конструктивность', 0.23293080925941467),\n",
              " ('офор', 0.23256804049015045),\n",
              " ('deteydlya', 0.23031717538833618),\n",
              " ('пресечении', 0.22632381319999695),\n",
              " ('одностороннего', 0.22608885169029236),\n",
              " ('подход', 0.2230587601661682),\n",
              " ('иболее', 0.22003726661205292),\n",
              " ('2015Александр', 0.21872764825820923),\n",
              " ('конструктивен', 0.21796566247940063)]"
            ]
          },
          "metadata": {},
          "execution_count": 11
        }
      ],
      "source": [
        "ru_emb.most_similar([uk_emb[\"серпень\"]])"
      ]
    },
    {
      "cell_type": "markdown",
      "metadata": {
        "id": "HMZBVfSXOoFk"
      },
      "source": [
        "Load small dictionaries for correspoinding words pairs as trainset and testset."
      ]
    },
    {
      "cell_type": "code",
      "execution_count": 12,
      "metadata": {
        "id": "VIbcdtisOoFk"
      },
      "outputs": [],
      "source": [
        "def load_word_pairs(filename):\n",
        "    uk_ru_pairs = []\n",
        "    uk_vectors = []\n",
        "    ru_vectors = []\n",
        "    with open(filename, \"r\") as inpf:\n",
        "        for line in inpf:\n",
        "            uk, ru = line.rstrip().split(\"\\t\")\n",
        "            if uk not in uk_emb or ru not in ru_emb:\n",
        "                continue\n",
        "            uk_ru_pairs.append((uk, ru))\n",
        "            uk_vectors.append(uk_emb[uk])\n",
        "            ru_vectors.append(ru_emb[ru])\n",
        "    return uk_ru_pairs, np.array(uk_vectors), np.array(ru_vectors)"
      ]
    },
    {
      "cell_type": "code",
      "execution_count": 13,
      "metadata": {
        "colab": {
          "base_uri": "https://localhost:8080/"
        },
        "id": "_jdIZxb3ZbnY",
        "outputId": "d6717833-f21e-412c-ff38-bc3e28a1bae6"
      },
      "outputs": [
        {
          "output_type": "stream",
          "name": "stdout",
          "text": [
            "--2022-02-23 21:43:28--  https://raw.githubusercontent.com/yandexdataschool/nlp_course/2021/week01_embeddings/ukr_rus.test.txt\n",
            "Resolving raw.githubusercontent.com (raw.githubusercontent.com)... 185.199.108.133, 185.199.109.133, 185.199.110.133, ...\n",
            "Connecting to raw.githubusercontent.com (raw.githubusercontent.com)|185.199.108.133|:443... connected.\n",
            "HTTP request sent, awaiting response... 200 OK\n",
            "Length: 12188 (12K) [text/plain]\n",
            "Saving to: ‘/content/gdrive/My Drive/ukr_rus.test.txt’\n",
            "\n",
            "\rukr_rus.test.txt      0%[                    ]       0  --.-KB/s               \rukr_rus.test.txt    100%[===================>]  11.90K  --.-KB/s    in 0s      \n",
            "\n",
            "2022-02-23 21:43:28 (92.0 MB/s) - ‘/content/gdrive/My Drive/ukr_rus.test.txt’ saved [12188/12188]\n",
            "\n"
          ]
        }
      ],
      "source": [
        "!wget -P /content/gdrive/My\\ Drive https://raw.githubusercontent.com/yandexdataschool/nlp_course/2021/week01_embeddings/ukr_rus.test.txt"
      ]
    },
    {
      "cell_type": "code",
      "execution_count": 14,
      "metadata": {
        "colab": {
          "base_uri": "https://localhost:8080/"
        },
        "id": "yN40qOWFZtSD",
        "outputId": "27982e3b-e573-43f7-b714-66e2dc51dd9a"
      },
      "outputs": [
        {
          "output_type": "stream",
          "name": "stdout",
          "text": [
            "--2022-02-23 21:43:29--  https://raw.githubusercontent.com/yandexdataschool/nlp_course/2021/week01_embeddings/ukr_rus.train.txt\n",
            "Resolving raw.githubusercontent.com (raw.githubusercontent.com)... 185.199.108.133, 185.199.109.133, 185.199.110.133, ...\n",
            "Connecting to raw.githubusercontent.com (raw.githubusercontent.com)|185.199.108.133|:443... connected.\n",
            "HTTP request sent, awaiting response... 200 OK\n",
            "Length: 59351 (58K) [text/plain]\n",
            "Saving to: ‘/content/gdrive/My Drive/ukr_rus.train.txt’\n",
            "\n",
            "\rukr_rus.train.txt     0%[                    ]       0  --.-KB/s               \rukr_rus.train.txt   100%[===================>]  57.96K  --.-KB/s    in 0.01s   \n",
            "\n",
            "2022-02-23 21:43:29 (5.17 MB/s) - ‘/content/gdrive/My Drive/ukr_rus.train.txt’ saved [59351/59351]\n",
            "\n"
          ]
        }
      ],
      "source": [
        "!wget -P /content/gdrive/My\\ Drive https://raw.githubusercontent.com/yandexdataschool/nlp_course/2021/week01_embeddings/ukr_rus.train.txt"
      ]
    },
    {
      "cell_type": "code",
      "execution_count": 15,
      "metadata": {
        "id": "xdCtht8xOoFl"
      },
      "outputs": [],
      "source": [
        "uk_ru_train, X_train, Y_train = load_word_pairs(\"/content/gdrive/My Drive/ukr_rus.train.txt\")"
      ]
    },
    {
      "cell_type": "code",
      "execution_count": 16,
      "metadata": {
        "id": "zZIuvyqrOoFl"
      },
      "outputs": [],
      "source": [
        "uk_ru_test, X_test, Y_test = load_word_pairs(\"/content/gdrive/My Drive/ukr_rus.test.txt\")"
      ]
    },
    {
      "cell_type": "markdown",
      "metadata": {
        "id": "Ck0u76dhOoFl"
      },
      "source": [
        "## Embedding space mapping"
      ]
    },
    {
      "cell_type": "markdown",
      "metadata": {
        "id": "AO-5_W6HOoFm"
      },
      "source": [
        "Let $x_i \\in \\mathrm{R}^d$ be the distributed representation of word $i$ in the source language, and $y_i \\in \\mathrm{R}^d$ is the vector representation of its translation. Our purpose is to learn such linear transform $W$ that minimizes euclidian distance between $Wx_i$ and $y_i$ for some subset of word embeddings. Thus we can formulate so-called Procrustes problem:\n",
        "\n",
        "$$W^*= \\arg\\min_W \\sum_{i=1}^n||Wx_i - y_i||_2$$\n",
        "or\n",
        "$$W^*= \\arg\\min_W ||WX - Y||_F$$\n",
        "\n",
        "where $||*||_F$ - Frobenius norm.\n",
        "\n",
        "In Greek mythology, Procrustes or \"the stretcher\" was a rogue smith and bandit from Attica who attacked people by stretching them or cutting off their legs, so as to force them to fit the size of an iron bed. We make same bad things with source embedding space. Our Procrustean bed is target embedding space."
      ]
    },
    {
      "cell_type": "markdown",
      "metadata": {
        "id": "6Wc4LAPDOoFm"
      },
      "source": [
        "![embedding_mapping.png](https://github.com/yandexdataschool/nlp_course/raw/master/resources/embedding_mapping.png)"
      ]
    },
    {
      "cell_type": "markdown",
      "metadata": {
        "id": "tVCDzqEpOoFm"
      },
      "source": [
        "![procrustes.png](https://github.com/yandexdataschool/nlp_course/raw/master/resources/procrustes.png)"
      ]
    },
    {
      "cell_type": "markdown",
      "metadata": {
        "id": "z5x6zZPBOoFm"
      },
      "source": [
        "But wait...$W^*= \\arg\\min_W \\sum_{i=1}^n||Wx_i - y_i||_2$ looks like simple multiple linear regression (without intercept fit). So let's code."
      ]
    },
    {
      "cell_type": "code",
      "execution_count": 17,
      "metadata": {
        "colab": {
          "base_uri": "https://localhost:8080/"
        },
        "id": "0CKxvWxOOoFm",
        "outputId": "5ccab84b-d905-4432-bca0-d7b411ac8ec4"
      },
      "outputs": [
        {
          "output_type": "execute_result",
          "data": {
            "text/plain": [
              "LinearRegression(fit_intercept=False)"
            ]
          },
          "metadata": {},
          "execution_count": 17
        }
      ],
      "source": [
        "from sklearn.linear_model import LinearRegression\n",
        "\n",
        "mapping = LinearRegression(fit_intercept=False)\n",
        "mapping.fit(X_train, Y_train)"
      ]
    },
    {
      "cell_type": "markdown",
      "metadata": {
        "id": "DKyCZ7f_OoFn"
      },
      "source": [
        "Let's take a look at neigbours of the vector of word _\"серпень\"_ (_\"август\"_ in Russian) after linear transform."
      ]
    },
    {
      "cell_type": "code",
      "execution_count": 18,
      "metadata": {
        "colab": {
          "base_uri": "https://localhost:8080/"
        },
        "id": "zivz1-2ZOoFn",
        "outputId": "ead971ec-bd60-4e97-b855-6e73abe0ac37"
      },
      "outputs": [
        {
          "output_type": "execute_result",
          "data": {
            "text/plain": [
              "[('апрель', 0.8541285991668701),\n",
              " ('июнь', 0.8411202430725098),\n",
              " ('март', 0.839699387550354),\n",
              " ('сентябрь', 0.835986852645874),\n",
              " ('февраль', 0.8329297304153442),\n",
              " ('октябрь', 0.8311845660209656),\n",
              " ('ноябрь', 0.8278923034667969),\n",
              " ('июль', 0.8234529495239258),\n",
              " ('август', 0.8120501041412354),\n",
              " ('декабрь', 0.803900420665741)]"
            ]
          },
          "metadata": {},
          "execution_count": 18
        }
      ],
      "source": [
        "august = mapping.predict(uk_emb[\"серпень\"].reshape(1, -1))\n",
        "ru_emb.most_similar(august)"
      ]
    },
    {
      "cell_type": "markdown",
      "metadata": {
        "id": "pQ4L80V8OoFn"
      },
      "source": [
        "We can see that neighbourhood of this embedding cosists of different months, but right variant is on the ninth place."
      ]
    },
    {
      "cell_type": "markdown",
      "metadata": {
        "id": "qYu_zzcHOoFn"
      },
      "source": [
        "As quality measure we will use precision top-1, top-5 and top-10 (for each transformed Ukrainian embedding we count how many right target pairs are found in top N nearest neighbours in Russian embedding space)."
      ]
    },
    {
      "cell_type": "code",
      "execution_count": 19,
      "metadata": {
        "id": "skpJVqJcOoFn"
      },
      "outputs": [],
      "source": [
        "def precision(pairs, mapped_vectors, topn=1):\n",
        "    \"\"\"\n",
        "    :args:\n",
        "        pairs = list of right word pairs [(uk_word_0, ru_word_0), ...]\n",
        "        mapped_vectors = list of embeddings after mapping from source embedding space to destination embedding space\n",
        "        topn = the number of nearest neighbours in destination embedding space to choose from\n",
        "    :returns:\n",
        "        precision_val, float number, total number of words for those we can find right translation at top K.\n",
        "    \"\"\"\n",
        "    assert len(pairs) == len(mapped_vectors)\n",
        "    num_matches = 0\n",
        "    for i, (_, ru) in enumerate(pairs):\n",
        "        emb = ru_emb.most_similar([mapped_vectors[i]], topn=topn)\n",
        "        for x in emb:\n",
        "            if ru == x[0]:\n",
        "              num_matches += 1\n",
        "\n",
        "    precision_val = num_matches / len(pairs)\n",
        "    return precision_val\n"
      ]
    },
    {
      "cell_type": "code",
      "execution_count": 20,
      "metadata": {
        "id": "JDW9jOmJOoFo"
      },
      "outputs": [],
      "source": [
        "assert precision([(\"серпень\", \"август\")], august, topn=5) == 0.0\n",
        "assert precision([(\"серпень\", \"август\")], august, topn=9) == 1.0\n",
        "assert precision([(\"серпень\", \"август\")], august, topn=10) == 1.0"
      ]
    },
    {
      "cell_type": "code",
      "execution_count": 21,
      "metadata": {
        "id": "U8IbXPbWOoFo"
      },
      "outputs": [],
      "source": [
        "assert precision(uk_ru_test, X_test) == 0.0\n",
        "assert precision(uk_ru_test, Y_test) == 1.0"
      ]
    },
    {
      "cell_type": "code",
      "execution_count": 22,
      "metadata": {
        "id": "dT-0-GQXOoFo"
      },
      "outputs": [],
      "source": [
        "precision_top1 = precision(uk_ru_test, mapping.predict(X_test), 1)\n",
        "precision_top5 = precision(uk_ru_test, mapping.predict(X_test), 5)\n",
        "\n",
        "assert precision_top1 >= 0.635\n",
        "assert precision_top5 >= 0.813"
      ]
    },
    {
      "cell_type": "markdown",
      "metadata": {
        "id": "sXAtrfSROoFp"
      },
      "source": [
        "## Making it better (orthogonal Procrustean problem)"
      ]
    },
    {
      "cell_type": "markdown",
      "metadata": {
        "id": "JRlIppXqOoFp"
      },
      "source": [
        "It can be shown (see original paper) that a self-consistent linear mapping between semantic spaces should be orthogonal. \n",
        "We can restrict transform $W$ to be orthogonal. Then we will solve next problem:\n",
        "\n",
        "$$W^*= \\arg\\min_W ||WX - Y||_F \\text{, where: } W^TW = I$$\n",
        "\n",
        "$$I \\text{- identity matrix}$$\n",
        "\n",
        "Instead of making yet another regression problem we can find optimal orthogonal transformation using singular value decomposition. It turns out that optimal transformation $W^*$ can be expressed via SVD components:\n",
        "$$X^TY=U\\Sigma V^T\\text{, singular value decompostion}$$\n",
        "$$W^*=UV^T$$"
      ]
    },
    {
      "cell_type": "code",
      "execution_count": 23,
      "metadata": {
        "id": "LzQCd0aSOoFp"
      },
      "outputs": [],
      "source": [
        "def learn_transform(X_train, Y_train):\n",
        "    \"\"\" \n",
        "    :returns: W* : float matrix[emb_dim x emb_dim] as defined in formulae above\n",
        "    \"\"\"\n",
        "    U, Sigma, V_T = np.linalg.svd(X_train.T @ Y_train, full_matrices=False)\n",
        "\n",
        "    return U @ V_T"
      ]
    },
    {
      "cell_type": "code",
      "execution_count": 24,
      "metadata": {
        "id": "kp16XfaDOoFp"
      },
      "outputs": [],
      "source": [
        "W = learn_transform(X_train, Y_train)"
      ]
    },
    {
      "cell_type": "code",
      "execution_count": 25,
      "metadata": {
        "colab": {
          "base_uri": "https://localhost:8080/"
        },
        "id": "AAzGBgmUOoFq",
        "outputId": "769ccd6f-316f-44b8-b54b-9d98fea99dc7"
      },
      "outputs": [
        {
          "output_type": "execute_result",
          "data": {
            "text/plain": [
              "[('апрель', 0.8237907886505127),\n",
              " ('сентябрь', 0.8049713373184204),\n",
              " ('март', 0.8025654554367065),\n",
              " ('июнь', 0.8021842241287231),\n",
              " ('октябрь', 0.8001736402511597),\n",
              " ('ноябрь', 0.7934483289718628),\n",
              " ('февраль', 0.7914121150970459),\n",
              " ('июль', 0.7908109426498413),\n",
              " ('август', 0.7891016602516174),\n",
              " ('декабрь', 0.7686373591423035)]"
            ]
          },
          "metadata": {},
          "execution_count": 25
        }
      ],
      "source": [
        "ru_emb.most_similar([np.matmul(uk_emb[\"серпень\"], W)])"
      ]
    },
    {
      "cell_type": "code",
      "execution_count": 26,
      "metadata": {
        "id": "8x44kFVHOoFq"
      },
      "outputs": [],
      "source": [
        "assert precision(uk_ru_test, np.matmul(X_test, W)) >= 0.653\n",
        "assert precision(uk_ru_test, np.matmul(X_test, W), 5) >= 0.824"
      ]
    },
    {
      "cell_type": "markdown",
      "metadata": {
        "id": "ACtHxdc5OoFq"
      },
      "source": [
        "## UK-RU Translator"
      ]
    },
    {
      "cell_type": "markdown",
      "metadata": {
        "id": "NTxUhLwmOoFq"
      },
      "source": [
        "Now we are ready to make simple word-based translator: for earch word in source language in shared embedding space we find the nearest in target language.\n"
      ]
    },
    {
      "cell_type": "code",
      "execution_count": 27,
      "metadata": {
        "colab": {
          "base_uri": "https://localhost:8080/"
        },
        "id": "l3IBfDpPl1-Q",
        "outputId": "47cb4d50-17af-4753-f70d-76ee752b3f52"
      },
      "outputs": [
        {
          "output_type": "stream",
          "name": "stdout",
          "text": [
            "--2022-02-23 21:46:15--  https://raw.githubusercontent.com/yandexdataschool/nlp_course/2021/week01_embeddings/fairy_tale.txt\n",
            "Resolving raw.githubusercontent.com (raw.githubusercontent.com)... 185.199.111.133, 185.199.109.133, 185.199.110.133, ...\n",
            "Connecting to raw.githubusercontent.com (raw.githubusercontent.com)|185.199.111.133|:443... connected.\n",
            "HTTP request sent, awaiting response... 200 OK\n",
            "Length: 9191 (9.0K) [text/plain]\n",
            "Saving to: ‘/content/gdrive/My Drive/fairy_tale.txt’\n",
            "\n",
            "\rfairy_tale.txt        0%[                    ]       0  --.-KB/s               \rfairy_tale.txt      100%[===================>]   8.98K  --.-KB/s    in 0s      \n",
            "\n",
            "2022-02-23 21:46:15 (64.1 MB/s) - ‘/content/gdrive/My Drive/fairy_tale.txt’ saved [9191/9191]\n",
            "\n"
          ]
        }
      ],
      "source": [
        "!wget -P /content/gdrive/My\\ Drive https://raw.githubusercontent.com/yandexdataschool/nlp_course/2021/week01_embeddings/fairy_tale.txt"
      ]
    },
    {
      "cell_type": "code",
      "execution_count": 28,
      "metadata": {
        "id": "l9K4hJxkOoFr"
      },
      "outputs": [],
      "source": [
        "with open(\"/content/gdrive/My Drive/fairy_tale.txt\", \"r\") as inpf:\n",
        "    uk_sentences = [line.rstrip().lower() for line in inpf]"
      ]
    },
    {
      "cell_type": "code",
      "execution_count": 29,
      "metadata": {
        "id": "xzOWri8FOoFr"
      },
      "outputs": [],
      "source": [
        "def translate(sentence):\n",
        "    \"\"\"\n",
        "    :args:\n",
        "        sentence - sentence in Ukrainian (str)\n",
        "    :returns:\n",
        "        translation - sentence in Russian (str)\n",
        "\n",
        "    * find ukrainian embedding for each word in sentence\n",
        "    * transform ukrainian embedding vector\n",
        "    * find nearest russian word and replace\n",
        "    \"\"\"\n",
        "    words_list = [word for word in sentence.split()]\n",
        "    ru_words = list()\n",
        "    for word in words_list:\n",
        "      try:\n",
        "        pred_word = ru_emb.most_similar([np.matmul(uk_emb[word], W)])[0][0]\n",
        "        ru_words.append(pred_word)\n",
        "      except KeyError:\n",
        "        ru_words.append(word)\n",
        "\n",
        "    return \" \".join(ru_words)"
      ]
    },
    {
      "cell_type": "code",
      "execution_count": 30,
      "metadata": {
        "id": "CJk3saW1OoFr"
      },
      "outputs": [],
      "source": [
        "assert translate(\".\") == \".\"\n",
        "assert translate(\"1 , 3\") == \"1 , 3\"\n",
        "assert translate(\"кіт зловив мишу\") == \"кот поймал мышку\""
      ]
    },
    {
      "cell_type": "code",
      "execution_count": 31,
      "metadata": {
        "colab": {
          "base_uri": "https://localhost:8080/"
        },
        "id": "XexPTh3FOoFr",
        "outputId": "9701811e-89ed-4920-aaa8-fd797e7d8a32"
      },
      "outputs": [
        {
          "output_type": "stream",
          "name": "stdout",
          "text": [
            "src: лисичка - сестричка і вовк - панібрат\n",
            "dst: лисичка – сестричка и волк – панібрат\n",
            "\n",
            "src: як була собі лисичка та зробила хатку, та й живе. а це приходять холоди. от лисичка замерзла та й побігла в село вогню добувать, щоб витопити. прибігає до одної баби та й каже:\n",
            "dst: как была себе лисичка и сделала хатку, и и живе. а оно приходят холоди. из лисичка замерзла и и побежала во село огня добувать, чтобы витопити. прибегает к одной бабы и и каже:\n",
            "\n",
            "src: — здорові були, бабусю! з неділею... позичте мені огню, я вам одслужу.\n",
            "dst: — здоровые були, бабусю! со неділею... позичте мне огню, мной тебе одслужу.\n",
            "\n",
            "src: — добре, — каже, — лисичко - сестричко. сідай погрійся трохи, поки я пиріжечки повибираю з печі!\n",
            "dst: — добре, — каже, — лисичко – сестричко. садись погрійся трохи, пока мной пирожки повибираю со печі!\n",
            "\n",
            "src: а баба макові пиріжки пекла. от баба вибирає пиріжки та на столі кладе, щоб прохололи; а лисичка підгляділа та за пиріг, та з хати... виїла мачок із середини, а туди напхала сміттячка, стулила та й біжить.\n",
            "dst: а бабка маковые пирожки пекла. из бабка выбирает пирожки и по столе кладе, чтобы прохололи; а лисичка підгляділа и за пиріг, и со хати... виїла мачок со середини, а туда напхала сміттячка, стулила и и біжить.\n",
            "\n",
            "src: от біжить, а хлопці товар женуть до води.\n",
            "dst: из біжить, а парни товар гонят к воды\n",
            "\n",
            "src: — здорові були, хлопці!\n",
            "dst: — здоровые були, хлопці!\n",
            "\n",
            "src: — здорова, лисичко - сестричко!\n",
            "dst: — здорова, лисичко – сестричко!\n",
            "\n",
            "src: — проміняйте мені бичка - третячка на маковий пиріжок!\n",
            "dst: — проміняйте мне бычка – третячка по маковый пиріжок!\n",
            "\n",
            "src: — добре, — кажуть.\n",
            "dst: — добре, — кажуть.\n",
            "\n",
            "src: — тільки, — каже, — тепер не їжте, а як я вибіжу з села, то тоді.\n",
            "dst: — тільки, — каже, — теперь не їжте, а как мной вибіжу со села, то тоді.\n",
            "\n",
            "src: от помінялись. лисичка за бичка — та в ліс. а хлопці до пиріжка — а там сміттянко.\n",
            "dst: из помінялись. лисичка за бычка — и во сельско а парни к пирожка — а там сміттянко.\n",
            "\n",
            "src: от прибігла лисичка до своєї хатки, вирубала дерево, зробила санки, запрягла бичка — іде. аж біжить вовк:\n",
            "dst: из прибежала лисичка к своего хатки, вирубала дерево, сделала санки, запрягла бычка — іде. аж бежит вовк:\n",
            "\n",
            "src: — здорова, лисичко - сестричко!\n",
            "dst: — здорова, лисичко – сестричко!\n",
            "\n",
            "src: — здоров, вовчику - братику!\n",
            "dst: — здоров, вовчику – братику!\n",
            "\n",
            "src: — де ти взяла бичка - третячка і санки?\n",
            "dst: — куда ты взяла бычка – третячка и санки?\n",
            "\n",
            "src: — зробила собі!\n",
            "dst: — сделала собі!\n",
            "\n",
            "src: — підвези ж, — каже, — мене, лисичко - сестричко!\n",
            "dst: — підвези ж, — каже, — мене, лисичко – сестричко!\n",
            "\n",
            "src: — е, куди я тебе візьму? ти мені й санки поламаєш!\n",
            "dst: — е, куда мной тебя візьму? ты мне и санки поламаєш!\n",
            "\n",
            "src: — ні, — каже, — я тільки одну ніжку положу.\n",
            "dst: — ні, — каже, — мной только одну ножку положу.\n",
            "\n",
            "src: — ну, клади!\n",
            "dst: — ну, клади!\n",
            "\n",
            "src: от од’їхали трохи, вовк і каже:\n",
            "dst: из од’їхали трохи, волк и каже:\n",
            "\n",
            "src: — положу я, лисичко - сестричко, й другу ніжку!\n",
            "dst: — положу я, лисичко – сестричко, и вторую ніжку!\n",
            "\n",
            "src: — е, вовчику - братику, ти мені й санки поламаєш!\n",
            "dst: — е, вовчику – братику, ты мне и санки поламаєш!\n",
            "\n",
            "src: — ні, — каже, — не поламаю!\n",
            "dst: — ні, — каже, — не поламаю!\n",
            "\n",
            "src: — ну, клади!\n",
            "dst: — ну, клади!\n",
            "\n",
            "src: вовк і положив. ідуть, їдуть, коли це щось — трісь.\n",
            "dst: волк и положив. ідуть, їдуть, когда оно что-то — трісь.\n",
            "\n",
            "src: — е, вовчику - братику, ти мені вже й санки ламаєш!\n",
            "dst: — е, вовчику – братику, ты мне уже и санки ламаєш!\n",
            "\n",
            "src: — ні лисичко - сестричко, то я орішок розкусив.\n",
            "dst: — ни лисичко – сестричко, то мной орішок розкусив.\n",
            "\n",
            "src: — ну, гляди!\n",
            "dst: — ну, гляди!\n",
            "\n",
            "src: от їдуть...\n",
            "dst: из їдуть...\n",
            "\n",
            "src: — положу я, лисичко - сестричко, й третю ніжку! — каже вовк.\n",
            "dst: — положу я, лисичко – сестричко, и третью ніжку! — говорит вовк.\n",
            "\n",
            "src: — куди ти положиш? ти мені санки поламаєш! чим я тоді дровець привезу?\n",
            "dst: — куда ты положиш? ты мне санки поламаєш! Чем мной тогда дровець привезу?\n",
            "\n",
            "src: — ні, — каже, — не поламаю.\n",
            "dst: — ні, — каже, — не поламаю.\n",
            "\n",
            "src: — ну, клади.\n",
            "dst: — ну, клади.\n",
            "\n",
            "src: вовк положив і третю ногу. коли це — трісь!\n",
            "dst: волк положил и третью ногу. когда оно — трісь!\n",
            "\n",
            "src: — ой лихо! — каже лисичка. — йди собі геть, вовчику, — ти мені зовсім санки поламаєш.\n",
            "dst: — ой лихо! — говорит лисичка. — иди себе геть, вовчику, — ты мне совсем санки поламаєш.\n",
            "\n",
            "src: — ні, то я орішок розкусив!\n",
            "dst: — ні, то мной орішок розкусив!\n",
            "\n",
            "src: — дай же й мені!\n",
            "dst: — дай то и мені!\n",
            "\n",
            "src: — нема, — каже, — останній!\n",
            "dst: — нема, — каже, — останній!\n",
            "\n",
            "src: їдуть собі та й їдуть; вовчик і каже:\n",
            "dst: едут себе и и їдуть; вовчик и каже:\n",
            "\n",
            "src: — сяду я зовсім, лисичко!\n",
            "dst: — сяду мной зовсім, лисичко!\n",
            "\n",
            "src: — куди ти сядеш, вовчику - братику? і санки розламаєш!\n",
            "dst: — куда ты сядеш, вовчику – братику? и санки розламаєш!\n",
            "\n",
            "src: — я помаленьку, — каже.\n",
            "dst: — мной помаленьку, — каже.\n",
            "\n",
            "src: — ну, гляди!\n",
            "dst: — ну, гляди!\n",
            "\n",
            "src: от вовчик тільки що сів, а санки так і розпались... лисичка тоді давай його лаять! лаяла - лаяла та й каже:\n",
            "dst: из вовчик только что сів, а санки так и розпались... лисичка тогда давай его лаять! ругала – ругала и и каже:\n",
            "\n",
            "src: — піди ж, сякий - такий сину, дровець нарубай і на санки вирубай, і приволочи!\n",
            "dst: — пойди ж, сякий – такой сину, дровець нарубай и по санки вирубай, и приволочи!\n",
            "\n",
            "src: — як же я, — каже вовчик, — вирубаю, коли я не знаю, якого дерева?\n",
            "dst: — как то я, — говорит вовчик, — вирубаю, когда мной не знаю, которого дерева?\n",
            "\n",
            "src: — е, — сякий - такий сину! як санчата ламать, так і знав, а дровець вирубать, то й ні!\n",
            "dst: — е, — сякий – такой сину! как санки ламать, так и знав, а дровець вирубать, то и ні!\n",
            "\n",
            "src: коришувала його, коришувала...\n",
            "dst: коришувала його, коришувала...\n",
            "\n",
            "src: — як увійдеш, — каже, — в ліс, то кажи: « рубайся, дерево, й пряме, й криве! рубайся, дерево, й пряме, й криве! »\n",
            "dst: — как увійдеш, — каже, — во ліс, то кажи: « рубайся, дерево, и пряме, и криве! рубайся, дерево, и пряме, и криве! »\n",
            "\n",
            "src: вовк і пішов.\n",
            "dst: волк и пішов.\n",
            "\n",
            "src: от приходить в ліс та й каже:\n",
            "dst: из приходит во лес и и каже:\n",
            "\n",
            "src: — рубайся, дерево, криве й криве!\n",
            "dst: — рубайся, дерево, кривое и криве!\n",
            "\n",
            "src: дерево й нарубалось. таке корячкувате, що й на палицю не вибереш — не то на полозок! приносить вовчик до лисички те дерево. вона як подивилась, давай його знов батькувати.\n",
            "dst: дерево и нарубалось. такое корячкувате, что и по палку не выберешь — не то по полозок! приносит вовчик к лисички что дерево. она как подивилась, давай его снова батькувати.\n",
            "\n",
            "src: — ти, — каже, — сякий - такий сину, не так казав, як я тобі веліла!\n",
            "dst: — ти, — каже, — сякий – такой сину, не так казав, как мной тебе веліла!\n",
            "\n",
            "src: — ні, лисичко - сестричко, я, — каже, — стояв та все казав: « рубайся, дерево, криве й криве! »\n",
            "dst: — ні, лисичко – сестричко, я, — каже, — стоял и всё казав: « рубайся, дерево, кривое и криве! »\n",
            "\n",
            "src: — е, бісів сину, й того недотепний! ну, сиди ж ти тут, — я сама піду нарубаю.\n",
            "dst: — е, бесов сину, и того недотепний! ну, сиди же ты тут, — мной сама пойду нарубаю.\n",
            "\n",
            "src: та й пішла.\n",
            "dst: и и пішла.\n",
            "\n",
            "src: от сидить вовк сам собі — так їсти хочеться! він думав - думав: « давай, — каже, — з’їм бичка та й утечу! » от взяв проїв дірку у бичка, із середини все виїв, а туди горобців напустив і соломою заткнув, а сам — драла... приходить лисичка, зробила санчата, сіла...\n",
            "dst: из сидит волк сам себе — так кушать хочеться! он думал – думав: « давай, — каже, — з’їм бычка и и утечу! » из взял проїв дыру во бичка, со середины всё виїв, а туда воробьёв напустил и соломой заткнув, а сам — драла... приходит лисичка, сделала санчата, сіла...\n",
            "\n",
            "src: — гей, бичок - третячок!\n",
            "dst: — гей, бычок – третячок!\n",
            "\n",
            "src: аж бичок не везе. вона його батогом. як ударила, а віхоть соломи й випав; а горобці — хррр!\n",
            "dst: аж бычок не везе. она его батогом. как ударила, а віхоть соломы и випав; а воробьи — хррр!\n",
            "\n",
            "src: — а, сякий - такий вовчик! постій же, — каже, — я тобі згадаю!\n",
            "dst: — а, сякий – такой вовчик! постой же, — каже, — мной тебе згадаю!\n",
            "\n",
            "src: та й пішла...\n",
            "dst: и и пішла...\n",
            "\n",
            "src: лягла на шляху та й лежить. ідуть чумаки з рибою; вона притаїлась, мов нежива. чумаки дивляться — аж лисиця:\n",
            "dst: легла по пути и и лежить. идут казаки со рибою; она притаїлась, языки нежива. казаки смотрят — аж лисиця:\n",
            "\n",
            "src: — візьмім, — кажуть, — бра, та продамо — буде за що хоч погрітися!\n",
            "dst: — візьмім, — кажуть, — бра, и продадим — будет за что хоть погрітися!\n",
            "\n",
            "src: скинули її на останній віз та й поїхали. ідуть та й їдуть. а лисичка - сестричка бачить, що вони не дивляться, та все кида по рибці на дорогу, все кида... от як накидала вже багато, тоді нишком і сама злізла. чумаки ж поїхали собі далі, а вона позбирала рибку, сіла та й їсть.\n",
            "dst: сбросили ей по последний визы и и поїхали. идут и и їдуть. а лисичка – сестричка бачить, что они не дивляться, и всё кида по рыбки по дорогу, всё кида... из как навязала уже багато, тогда втихаря и сама злізла. казаки же поехали себе далі, а она позбирала рибку, присела и и їсть.\n",
            "\n",
            "src: коли це біжить вовчик:\n",
            "dst: когда оно бежит вовчик:\n",
            "\n",
            "src: — здорова була, лисичко - сестричко!\n",
            "dst: — здоровая була, лисичко – сестричко!\n",
            "\n",
            "src: — здоров, вовчику - братику!\n",
            "dst: — здоров, вовчику – братику!\n",
            "\n",
            "src: — що ти робиш, лисичко - сестричко?\n",
            "dst: — что ты робиш, лисичко – сестричко?\n",
            "\n",
            "src: — рибу, — каже, — їм.\n",
            "dst: — рибу, — каже, — їм.\n",
            "\n",
            "src: — дай же й мені!\n",
            "dst: — дай то и мені!\n",
            "\n",
            "src: — піди собі налови.\n",
            "dst: — пойди себе налови.\n",
            "\n",
            "src: — так як же я наловлю, коли я не вмію?\n",
            "dst: — так как то мной наловлю, когда мной не вмію?\n",
            "\n",
            "src: — ну, як знаєш, а я не дам і кісточки!\n",
            "dst: — ну, как знаєш, а мной не дам и кісточки!\n",
            "\n",
            "src: — так хоч навчи мене, як наловить.\n",
            "dst: — так хоть научить мене, как наловить.\n",
            "\n",
            "src: а лисичка й дума: « постій же! ти мого бичка - третячка з’їв — я тепер тобі оддячу! »\n",
            "dst: а лисичка и дума: « постой же! ты моего бычка – третячка з’їв — мной теперь тебе оддячу! »\n",
            "\n",
            "src: — а так, — каже, — піди до ополонки, устроми в ополонку хвіст та потихеньку води ним і приказуй: « ловись, рибко, мала й велика! ловись, рибко, мала й велика! » то вона й наловиться.\n",
            "dst: — а так, — каже, — пойди к ополонки, устроми во прорубь хвост и потихоньку воды ним и приказуй: « ловись, рибко, имела и велика! ловись, рибко, имела и велика! » то она и наловиться.\n",
            "\n",
            "src: — ну, спасибі за науку! — каже вовчик.\n",
            "dst: — ну, спасибо за науку! — говорит вовчик.\n",
            "\n",
            "src: от прибігає вовчик до ополонки, устромив в ополонку хвіст:\n",
            "dst: из прибегает вовчик к ополонки, устромив во прорубь хвіст:\n",
            "\n",
            "src: — ловись, — каже, — рибко, мала й велика!\n",
            "dst: — ловись, — каже, — рибко, имела и велика!\n",
            "\n",
            "src: а лисичка з очерету:\n",
            "dst: а лисичка со очерету:\n",
            "\n",
            "src: — мерзни, мерзни, вовчий хвіст!\n",
            "dst: — мерзни, мерзни, волчий хвіст!\n",
            "\n",
            "src: а мороз надворі такий, що аж шкварчить! вовчик хвостиком усе водить та:\n",
            "dst: а мороз дворе такий, что аж шкварчить! вовчик хвостиком всё водит та:\n",
            "\n",
            "src: — ловись, рибко, мала й велика!\n",
            "dst: — ловись, рибко, имела и велика!\n",
            "\n",
            "src: а лисичка:\n",
            "dst: а лисичка:\n",
            "\n",
            "src: — мерзни, мерзни, вовчий хвіст!\n",
            "dst: — мерзни, мерзни, волчий хвіст!\n",
            "\n",
            "src: поки ловив вовчик рибу, поки хвіст так і прикипів в ополонці! тоді лисичка в село:\n",
            "dst: пока ловил вовчик рибу, пока хвост так и пугаясь во ополонці! тогда лисичка во село:\n",
            "\n",
            "src: — ідіть, люди, вовка бить!\n",
            "dst: — ідіть, люди, волка бить!\n",
            "\n",
            "src: люди як вискочать — з кочергами, з рогачами, із сокирами: вбили того вовка і пропав бідний! а лисичка й досі живе у своїй хатці.\n",
            "dst: люди как вискочать — со кочергами, со рогачами, со сокирами: убили того волка и пропал бідний! а лисичка и сих живет во своей хатці.\n",
            "\n"
          ]
        }
      ],
      "source": [
        "for sentence in uk_sentences:\n",
        "    print(\"src: {}\\ndst: {}\\n\".format(sentence, translate(sentence)))"
      ]
    },
    {
      "cell_type": "markdown",
      "metadata": {
        "id": "6XotubDDOoFr"
      },
      "source": [
        "Not so bad, right? We can easily improve translation using language model and not one but several nearest neighbours in shared embedding space. But next time."
      ]
    },
    {
      "cell_type": "markdown",
      "metadata": {
        "id": "m6NZSqJJOoFs"
      },
      "source": [
        "## Would you like to learn more?\n",
        "\n",
        "### Articles:\n",
        "* [Exploiting Similarities among Languages for Machine Translation](https://arxiv.org/pdf/1309.4168)  - entry point for multilingual embedding studies by Tomas Mikolov (the author of W2V)\n",
        "* [Offline bilingual word vectors, orthogonal transformations and the inverted softmax](https://arxiv.org/pdf/1702.03859) - orthogonal transform for unsupervised MT\n",
        "* [Word Translation Without Parallel Data](https://arxiv.org/pdf/1710.04087)\n",
        "* [Loss in Translation: Learning Bilingual Word Mapping with a Retrieval Criterion](https://arxiv.org/pdf/1804.07745)\n",
        "* [Unsupervised Alignment of Embeddings with Wasserstein Procrustes](https://arxiv.org/pdf/1805.11222)\n",
        "\n",
        "### Repos (with ready-to-use multilingual embeddings):\n",
        "* https://github.com/facebookresearch/MUSE\n",
        "\n",
        "* https://github.com/Babylonpartners/fastText_multilingual -"
      ]
    }
  ],
  "metadata": {
    "colab": {
      "name": "HW1_YSDA.ipynb",
      "provenance": []
    },
    "kernelspec": {
      "display_name": "Python 3",
      "language": "python",
      "name": "python3"
    },
    "language_info": {
      "codemirror_mode": {
        "name": "ipython",
        "version": 3
      },
      "file_extension": ".py",
      "mimetype": "text/x-python",
      "name": "python",
      "nbconvert_exporter": "python",
      "pygments_lexer": "ipython3",
      "version": "3.8.5"
    },
    "nbTranslate": {
      "displayLangs": [
        "*"
      ],
      "hotkey": "alt-t",
      "langInMainMenu": true,
      "sourceLang": "en",
      "targetLang": "fr",
      "useGoogleTranslate": true
    },
    "toc": {
      "base_numbering": 1,
      "nav_menu": {},
      "number_sections": true,
      "sideBar": true,
      "skip_h1_title": false,
      "title_cell": "Table of Contents",
      "title_sidebar": "Contents",
      "toc_cell": false,
      "toc_position": {},
      "toc_section_display": true,
      "toc_window_display": false
    },
    "varInspector": {
      "cols": {
        "lenName": 16,
        "lenType": 16,
        "lenVar": 40
      },
      "kernels_config": {
        "python": {
          "delete_cmd_postfix": "",
          "delete_cmd_prefix": "del ",
          "library": "var_list.py",
          "varRefreshCmd": "print(var_dic_list())"
        },
        "r": {
          "delete_cmd_postfix": ") ",
          "delete_cmd_prefix": "rm(",
          "library": "var_list.r",
          "varRefreshCmd": "cat(var_dic_list()) "
        }
      },
      "types_to_exclude": [
        "module",
        "function",
        "builtin_function_or_method",
        "instance",
        "_Feature"
      ],
      "window_display": false
    }
  },
  "nbformat": 4,
  "nbformat_minor": 0
}